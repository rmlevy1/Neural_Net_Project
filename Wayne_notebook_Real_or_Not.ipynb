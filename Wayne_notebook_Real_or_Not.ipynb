{
 "cells": [
  {
   "cell_type": "markdown",
   "metadata": {},
   "source": [
    "# Job Posting Data Acquisition and EDA"
   ]
  },
  {
   "cell_type": "code",
   "execution_count": 1,
   "metadata": {
    "ExecuteTime": {
     "end_time": "2020-03-24T16:36:44.488092Z",
     "start_time": "2020-03-24T16:36:42.393947Z"
    }
   },
   "outputs": [],
   "source": [
    "import numpy as np\n",
    "import pandas as pd\n",
    "# from gensim.models import Word2Vec\n",
    "# from nltk import word_tokenize\n",
    "# import matplotlib.pyplot as plt\n",
    "# import seaborn as sns\n",
    "\n",
    "import dfunc\n",
    "from dfunc import df_info\n",
    "\n",
    "np.random.seed(0)\n",
    "pd.set_option('display.max_columns', 300)"
   ]
  },
  {
   "cell_type": "code",
   "execution_count": 2,
   "metadata": {
    "ExecuteTime": {
     "end_time": "2020-03-24T16:36:45.011309Z",
     "start_time": "2020-03-24T16:36:44.490940Z"
    }
   },
   "outputs": [],
   "source": [
    "df = pd.read_csv('fake_job_postings.csv', index_col=0)"
   ]
  },
  {
   "cell_type": "code",
   "execution_count": null,
   "metadata": {
    "ExecuteTime": {
     "end_time": "2020-03-24T15:58:38.832686Z",
     "start_time": "2020-03-24T15:58:38.803529Z"
    }
   },
   "outputs": [],
   "source": [
    "df.head(3)"
   ]
  },
  {
   "cell_type": "code",
   "execution_count": null,
   "metadata": {
    "ExecuteTime": {
     "end_time": "2020-03-24T15:58:38.991953Z",
     "start_time": "2020-03-24T15:58:38.987676Z"
    }
   },
   "outputs": [],
   "source": [
    "df.shape"
   ]
  },
  {
   "cell_type": "markdown",
   "metadata": {},
   "source": [
    "## Initial Data Cleaning/Engineering and EDA\n",
    "- Total Observations: 17880 rows\n",
    "- Total Features: 16 columns\n",
    "- Target Variable: 'fraudulent', 0 is real, 1 is false\n",
    "    - 0: 17014\n",
    "    - 1: 866\n",
    "- Features to drop:\n",
    "    - 'title': No standardization of naming job titles\n",
    "    - 'department': No standardization of departments, 'function' can replace\n",
    "- Categorical Features: 'location', 'salary_range', 'telecommuting', 'has_company_logo', 'has_questions', 'employment_type', 'required_experience', 'required_education', 'industry', 'function'\n",
    "- NLP Features: 'company_profile', 'description', 'requirements', 'benefits'"
   ]
  },
  {
   "cell_type": "code",
   "execution_count": null,
   "metadata": {
    "ExecuteTime": {
     "end_time": "2020-03-24T16:30:08.172990Z",
     "start_time": "2020-03-24T16:30:08.165896Z"
    }
   },
   "outputs": [],
   "source": [
    "df['fraudulent'].value_counts()[1]"
   ]
  },
  {
   "cell_type": "code",
   "execution_count": 3,
   "metadata": {
    "ExecuteTime": {
     "end_time": "2020-03-24T16:36:45.783191Z",
     "start_time": "2020-03-24T16:36:45.757109Z"
    }
   },
   "outputs": [
    {
     "name": "stdout",
     "output_type": "stream",
     "text": [
      "Target variable: fraudulent\n",
      "----------------\n",
      "Classes: 2\n",
      "Imbalance: 0 - 17014, 1 - 866\n",
      "\n",
      "No missing values: title, telecommuting, has_company_logo, has_questions, fraudulent\n",
      "\n",
      "Values Missing:\n",
      "---------------\n",
      "location: 346 (1.94%)\n",
      "department: 11547 (64.58%) ***\n",
      "salary_range: 15012 (83.96%) ***\n",
      "company_profile: 3308 (18.5%)\n",
      "description: 1 (0.01%)\n",
      "requirements: 2695 (15.07%)\n",
      "benefits: 7210 (40.32%) ***\n",
      "employment_type: 3471 (19.41%)\n",
      "required_experience: 7050 (39.43%) ***\n",
      "required_education: 8105 (45.33%) ***\n",
      "industry: 4903 (27.42%) ***\n",
      "function: 6455 (36.1%) ***\n"
     ]
    }
   ],
   "source": [
    "df_info(df, 'fraudulent')"
   ]
  },
  {
   "cell_type": "code",
   "execution_count": null,
   "metadata": {
    "ExecuteTime": {
     "end_time": "2020-03-24T15:45:02.838326Z",
     "start_time": "2020-03-24T15:45:02.819435Z"
    }
   },
   "outputs": [],
   "source": [
    "df['fraudulent'].value_counts(normalize=True)"
   ]
  },
  {
   "cell_type": "code",
   "execution_count": null,
   "metadata": {
    "ExecuteTime": {
     "end_time": "2020-03-24T15:52:31.714541Z",
     "start_time": "2020-03-24T15:52:31.696882Z"
    },
    "scrolled": true
   },
   "outputs": [],
   "source": [
    "# Missing values in columns\n",
    "df.isna().sum()['title']"
   ]
  },
  {
   "cell_type": "code",
   "execution_count": null,
   "metadata": {
    "ExecuteTime": {
     "end_time": "2020-03-24T15:49:37.051811Z",
     "start_time": "2020-03-24T15:49:37.047064Z"
    }
   },
   "outputs": [],
   "source": [
    "len(df)"
   ]
  },
  {
   "cell_type": "code",
   "execution_count": null,
   "metadata": {
    "ExecuteTime": {
     "end_time": "2020-03-24T15:41:10.582399Z",
     "start_time": "2020-03-24T15:41:10.539540Z"
    }
   },
   "outputs": [],
   "source": [
    "df.drop(columns=['title', 'department'], inplace=True)"
   ]
  },
  {
   "cell_type": "markdown",
   "metadata": {},
   "source": [
    "### Narrow down to US job postings"
   ]
  },
  {
   "cell_type": "code",
   "execution_count": null,
   "metadata": {
    "ExecuteTime": {
     "end_time": "2020-03-24T15:21:54.595620Z",
     "start_time": "2020-03-24T15:21:54.560277Z"
    }
   },
   "outputs": [],
   "source": [
    "# Only keeping US job postings\n",
    "df = df.loc[df['location'].str[:2] == 'US']\n",
    "\n",
    "print('Real:', df['fraudulent'].value_counts()[0])\n",
    "print('Fake:', df['fraudulent'].value_counts()[1])\n",
    "print('Ratio of Real to Fake: {} to {}'.format(round(df['fraudulent'].value_counts(normalize=True)[0], 2),\n",
    "                                               round(df['fraudulent'].value_counts(normalize=True)[1], 2)))"
   ]
  },
  {
   "cell_type": "markdown",
   "metadata": {
    "ExecuteTime": {
     "end_time": "2020-03-24T00:53:31.071240Z",
     "start_time": "2020-03-24T00:53:31.047924Z"
    }
   },
   "source": [
    "### Salary range feature\n",
    "- Ratio of real to fake job postings is much greater in postings that include salary range\n",
    "- Convert feature to whether or not salary is posted"
   ]
  },
  {
   "cell_type": "code",
   "execution_count": null,
   "metadata": {
    "ExecuteTime": {
     "end_time": "2020-03-24T15:21:57.668799Z",
     "start_time": "2020-03-24T15:21:57.656397Z"
    }
   },
   "outputs": [],
   "source": [
    "# No salary range in posting\n",
    "df.loc[df['salary_range'].isna() == True]['fraudulent'].value_counts(normalize=True)"
   ]
  },
  {
   "cell_type": "code",
   "execution_count": null,
   "metadata": {
    "ExecuteTime": {
     "end_time": "2020-03-24T15:21:58.677340Z",
     "start_time": "2020-03-24T15:21:58.666823Z"
    }
   },
   "outputs": [],
   "source": [
    "# Salary range in posting\n",
    "df.loc[df['salary_range'].isna() == False]['fraudulent'].value_counts(normalize=True)"
   ]
  },
  {
   "cell_type": "code",
   "execution_count": null,
   "metadata": {
    "ExecuteTime": {
     "end_time": "2020-03-24T15:22:02.207495Z",
     "start_time": "2020-03-24T15:22:02.201223Z"
    }
   },
   "outputs": [],
   "source": [
    "df['salary'] = np.where(df['salary_range'].isna() == True, 0, 1)"
   ]
  },
  {
   "cell_type": "code",
   "execution_count": null,
   "metadata": {
    "ExecuteTime": {
     "end_time": "2020-03-24T15:23:43.973022Z",
     "start_time": "2020-03-24T15:23:43.966523Z"
    }
   },
   "outputs": [],
   "source": [
    "df.drop(columns='salary_range', inplace=True)"
   ]
  },
  {
   "cell_type": "code",
   "execution_count": null,
   "metadata": {
    "ExecuteTime": {
     "end_time": "2020-03-24T15:23:45.135946Z",
     "start_time": "2020-03-24T15:23:45.112709Z"
    }
   },
   "outputs": [],
   "source": [
    "df.head(10)"
   ]
  },
  {
   "cell_type": "code",
   "execution_count": null,
   "metadata": {},
   "outputs": [],
   "source": []
  }
 ],
 "metadata": {
  "kernelspec": {
   "display_name": "Python 3",
   "language": "python",
   "name": "python3"
  },
  "language_info": {
   "codemirror_mode": {
    "name": "ipython",
    "version": 3
   },
   "file_extension": ".py",
   "mimetype": "text/x-python",
   "name": "python",
   "nbconvert_exporter": "python",
   "pygments_lexer": "ipython3",
   "version": "3.6.9"
  },
  "toc": {
   "base_numbering": 1,
   "nav_menu": {},
   "number_sections": true,
   "sideBar": true,
   "skip_h1_title": false,
   "title_cell": "Table of Contents",
   "title_sidebar": "Contents",
   "toc_cell": false,
   "toc_position": {},
   "toc_section_display": true,
   "toc_window_display": true
  }
 },
 "nbformat": 4,
 "nbformat_minor": 2
}
